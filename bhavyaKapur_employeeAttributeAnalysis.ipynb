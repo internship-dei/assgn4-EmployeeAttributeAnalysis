{
  "nbformat": 4,
  "nbformat_minor": 0,
  "metadata": {
    "colab": {
      "name": "bhavyaKapur_employee.ipynb",
      "provenance": [],
      "collapsed_sections": []
    },
    "kernelspec": {
      "name": "python3",
      "display_name": "Python 3"
    },
    "language_info": {
      "name": "python"
    }
  },
  "cells": [
    {
      "cell_type": "code",
      "metadata": {
        "id": "5cMlZR3e9JJY"
      },
      "source": [
        "import pandas as pd\n",
        "import numpy as np\n",
        "import matplotlib.pyplot as plt\n",
        "import seaborn as sns"
      ],
      "execution_count": 2,
      "outputs": []
    },
    {
      "cell_type": "code",
      "metadata": {
        "colab": {
          "base_uri": "https://localhost:8080/",
          "height": 681
        },
        "id": "5DS2SlLlOhPK",
        "outputId": "a9023a98-771d-4c69-eff3-03795591959a"
      },
      "source": [
        "df = pd.read_csv(\"/content/employee_data.csv\",sep=\"\\t\")\n",
        "df.head(20)"
      ],
      "execution_count": 3,
      "outputs": [
        {
          "output_type": "execute_result",
          "data": {
            "text/html": [
              "<div>\n",
              "<style scoped>\n",
              "    .dataframe tbody tr th:only-of-type {\n",
              "        vertical-align: middle;\n",
              "    }\n",
              "\n",
              "    .dataframe tbody tr th {\n",
              "        vertical-align: top;\n",
              "    }\n",
              "\n",
              "    .dataframe thead th {\n",
              "        text-align: right;\n",
              "    }\n",
              "</style>\n",
              "<table border=\"1\" class=\"dataframe\">\n",
              "  <thead>\n",
              "    <tr style=\"text-align: right;\">\n",
              "      <th></th>\n",
              "      <th>age</th>\n",
              "      <th>employment_type</th>\n",
              "      <th>salary</th>\n",
              "      <th>education</th>\n",
              "      <th>marital-status</th>\n",
              "      <th>relationship</th>\n",
              "      <th>Gender</th>\n",
              "      <th>hours_per_week</th>\n",
              "    </tr>\n",
              "  </thead>\n",
              "  <tbody>\n",
              "    <tr>\n",
              "      <th>0</th>\n",
              "      <td>39</td>\n",
              "      <td>State-gov</td>\n",
              "      <td>77516</td>\n",
              "      <td>Bachelors</td>\n",
              "      <td>Never-married</td>\n",
              "      <td>Not-in-family</td>\n",
              "      <td>Male</td>\n",
              "      <td>40</td>\n",
              "    </tr>\n",
              "    <tr>\n",
              "      <th>1</th>\n",
              "      <td>50</td>\n",
              "      <td>Self-emp-not-inc</td>\n",
              "      <td>83311</td>\n",
              "      <td>Bachelors</td>\n",
              "      <td>Married-civ-spouse</td>\n",
              "      <td>Husband</td>\n",
              "      <td>Male</td>\n",
              "      <td>13</td>\n",
              "    </tr>\n",
              "    <tr>\n",
              "      <th>2</th>\n",
              "      <td>38</td>\n",
              "      <td>Private</td>\n",
              "      <td>215646</td>\n",
              "      <td>HS-grad</td>\n",
              "      <td>Divorced</td>\n",
              "      <td>Not-in-family</td>\n",
              "      <td>Male</td>\n",
              "      <td>40</td>\n",
              "    </tr>\n",
              "    <tr>\n",
              "      <th>3</th>\n",
              "      <td>53</td>\n",
              "      <td>Private</td>\n",
              "      <td>234721</td>\n",
              "      <td>11th</td>\n",
              "      <td>Married-civ-spouse</td>\n",
              "      <td>Husband</td>\n",
              "      <td>Male</td>\n",
              "      <td>40</td>\n",
              "    </tr>\n",
              "    <tr>\n",
              "      <th>4</th>\n",
              "      <td>28</td>\n",
              "      <td>Private</td>\n",
              "      <td>338409</td>\n",
              "      <td>Bachelors</td>\n",
              "      <td>Married-civ-spouse</td>\n",
              "      <td>Wife</td>\n",
              "      <td>Female</td>\n",
              "      <td>40</td>\n",
              "    </tr>\n",
              "    <tr>\n",
              "      <th>5</th>\n",
              "      <td>37</td>\n",
              "      <td>Private</td>\n",
              "      <td>284582</td>\n",
              "      <td>Masters</td>\n",
              "      <td>Married-civ-spouse</td>\n",
              "      <td>Wife</td>\n",
              "      <td>Female</td>\n",
              "      <td>40</td>\n",
              "    </tr>\n",
              "    <tr>\n",
              "      <th>6</th>\n",
              "      <td>49</td>\n",
              "      <td>Private</td>\n",
              "      <td>160187</td>\n",
              "      <td>9th</td>\n",
              "      <td>Married-spouse-absent</td>\n",
              "      <td>Not-in-family</td>\n",
              "      <td>Female</td>\n",
              "      <td>16</td>\n",
              "    </tr>\n",
              "    <tr>\n",
              "      <th>7</th>\n",
              "      <td>52</td>\n",
              "      <td>Self-emp-not-inc</td>\n",
              "      <td>209642</td>\n",
              "      <td>HS-grad</td>\n",
              "      <td>Married-civ-spouse</td>\n",
              "      <td>Husband</td>\n",
              "      <td>Male</td>\n",
              "      <td>45</td>\n",
              "    </tr>\n",
              "    <tr>\n",
              "      <th>8</th>\n",
              "      <td>31</td>\n",
              "      <td>Private</td>\n",
              "      <td>45781</td>\n",
              "      <td>Masters</td>\n",
              "      <td>Never-married</td>\n",
              "      <td>Not-in-family</td>\n",
              "      <td>Female</td>\n",
              "      <td>50</td>\n",
              "    </tr>\n",
              "    <tr>\n",
              "      <th>9</th>\n",
              "      <td>42</td>\n",
              "      <td>Private</td>\n",
              "      <td>159449</td>\n",
              "      <td>Bachelors</td>\n",
              "      <td>Married-civ-spouse</td>\n",
              "      <td>Husband</td>\n",
              "      <td>Male</td>\n",
              "      <td>40</td>\n",
              "    </tr>\n",
              "    <tr>\n",
              "      <th>10</th>\n",
              "      <td>37</td>\n",
              "      <td>Private</td>\n",
              "      <td>280464</td>\n",
              "      <td>Some-college</td>\n",
              "      <td>Married-civ-spouse</td>\n",
              "      <td>Husband</td>\n",
              "      <td>Male</td>\n",
              "      <td>80</td>\n",
              "    </tr>\n",
              "    <tr>\n",
              "      <th>11</th>\n",
              "      <td>30</td>\n",
              "      <td>State-gov</td>\n",
              "      <td>141297</td>\n",
              "      <td>Bachelors</td>\n",
              "      <td>Married-civ-spouse</td>\n",
              "      <td>Husband</td>\n",
              "      <td>Male</td>\n",
              "      <td>40</td>\n",
              "    </tr>\n",
              "    <tr>\n",
              "      <th>12</th>\n",
              "      <td>23</td>\n",
              "      <td>Private</td>\n",
              "      <td>122272</td>\n",
              "      <td>Bachelors</td>\n",
              "      <td>Never-married</td>\n",
              "      <td>Own-child</td>\n",
              "      <td>Female</td>\n",
              "      <td>30</td>\n",
              "    </tr>\n",
              "    <tr>\n",
              "      <th>13</th>\n",
              "      <td>32</td>\n",
              "      <td>Private</td>\n",
              "      <td>205019</td>\n",
              "      <td>Assoc-acdm</td>\n",
              "      <td>Never-married</td>\n",
              "      <td>Not-in-family</td>\n",
              "      <td>Male</td>\n",
              "      <td>50</td>\n",
              "    </tr>\n",
              "    <tr>\n",
              "      <th>14</th>\n",
              "      <td>40</td>\n",
              "      <td>Private</td>\n",
              "      <td>121772</td>\n",
              "      <td>Assoc-voc</td>\n",
              "      <td>Married-civ-spouse</td>\n",
              "      <td>Husband</td>\n",
              "      <td>Male</td>\n",
              "      <td>40</td>\n",
              "    </tr>\n",
              "    <tr>\n",
              "      <th>15</th>\n",
              "      <td>34</td>\n",
              "      <td>Private</td>\n",
              "      <td>245487</td>\n",
              "      <td>7th-8th</td>\n",
              "      <td>Married-civ-spouse</td>\n",
              "      <td>Husband</td>\n",
              "      <td>Male</td>\n",
              "      <td>45</td>\n",
              "    </tr>\n",
              "    <tr>\n",
              "      <th>16</th>\n",
              "      <td>25</td>\n",
              "      <td>Self-emp-not-inc</td>\n",
              "      <td>176756</td>\n",
              "      <td>HS-grad</td>\n",
              "      <td>Never-married</td>\n",
              "      <td>Own-child</td>\n",
              "      <td>Male</td>\n",
              "      <td>35</td>\n",
              "    </tr>\n",
              "    <tr>\n",
              "      <th>17</th>\n",
              "      <td>32</td>\n",
              "      <td>Private</td>\n",
              "      <td>186824</td>\n",
              "      <td>HS-grad</td>\n",
              "      <td>Never-married</td>\n",
              "      <td>Unmarried</td>\n",
              "      <td>Male</td>\n",
              "      <td>40</td>\n",
              "    </tr>\n",
              "    <tr>\n",
              "      <th>18</th>\n",
              "      <td>38</td>\n",
              "      <td>Private</td>\n",
              "      <td>28887</td>\n",
              "      <td>11th</td>\n",
              "      <td>Married-civ-spouse</td>\n",
              "      <td>Husband</td>\n",
              "      <td>Male</td>\n",
              "      <td>50</td>\n",
              "    </tr>\n",
              "    <tr>\n",
              "      <th>19</th>\n",
              "      <td>43</td>\n",
              "      <td>Self-emp-not-inc</td>\n",
              "      <td>292175</td>\n",
              "      <td>Masters</td>\n",
              "      <td>Divorced</td>\n",
              "      <td>Unmarried</td>\n",
              "      <td>Female</td>\n",
              "      <td>45</td>\n",
              "    </tr>\n",
              "  </tbody>\n",
              "</table>\n",
              "</div>"
            ],
            "text/plain": [
              "    age    employment_type  salary  ...    relationship   Gender hours_per_week\n",
              "0    39          State-gov   77516  ...   Not-in-family     Male             40\n",
              "1    50   Self-emp-not-inc   83311  ...         Husband     Male             13\n",
              "2    38            Private  215646  ...   Not-in-family     Male             40\n",
              "3    53            Private  234721  ...         Husband     Male             40\n",
              "4    28            Private  338409  ...            Wife   Female             40\n",
              "5    37            Private  284582  ...            Wife   Female             40\n",
              "6    49            Private  160187  ...   Not-in-family   Female             16\n",
              "7    52   Self-emp-not-inc  209642  ...         Husband     Male             45\n",
              "8    31            Private   45781  ...   Not-in-family   Female             50\n",
              "9    42            Private  159449  ...         Husband     Male             40\n",
              "10   37            Private  280464  ...         Husband     Male             80\n",
              "11   30          State-gov  141297  ...         Husband     Male             40\n",
              "12   23            Private  122272  ...       Own-child   Female             30\n",
              "13   32            Private  205019  ...   Not-in-family     Male             50\n",
              "14   40            Private  121772  ...         Husband     Male             40\n",
              "15   34            Private  245487  ...         Husband     Male             45\n",
              "16   25   Self-emp-not-inc  176756  ...       Own-child     Male             35\n",
              "17   32            Private  186824  ...       Unmarried     Male             40\n",
              "18   38            Private   28887  ...         Husband     Male             50\n",
              "19   43   Self-emp-not-inc  292175  ...       Unmarried   Female             45\n",
              "\n",
              "[20 rows x 8 columns]"
            ]
          },
          "metadata": {
            "tags": []
          },
          "execution_count": 3
        }
      ]
    },
    {
      "cell_type": "code",
      "metadata": {
        "colab": {
          "base_uri": "https://localhost:8080/"
        },
        "id": "JjDmKlBYQfuj",
        "outputId": "554da8fa-cc7e-46b4-c4d9-da4a411fceae"
      },
      "source": [
        "df.shape"
      ],
      "execution_count": 4,
      "outputs": [
        {
          "output_type": "execute_result",
          "data": {
            "text/plain": [
              "(978, 8)"
            ]
          },
          "metadata": {
            "tags": []
          },
          "execution_count": 4
        }
      ]
    },
    {
      "cell_type": "markdown",
      "metadata": {
        "id": "hL0EJHudUUPK"
      },
      "source": [
        "#Problem Statement #1"
      ]
    },
    {
      "cell_type": "code",
      "metadata": {
        "colab": {
          "base_uri": "https://localhost:8080/"
        },
        "id": "xcOiMLWbR1dB",
        "outputId": "a626065f-83ce-48d4-9f24-f97d0d93ebb0"
      },
      "source": [
        "num_cols = df._get_numeric_data().columns\n",
        "cont_cols = []\n",
        "for i in num_cols:\n",
        "  if(len(df[i].unique())) > int(df.shape[0]/25):\n",
        "     cont_cols.append(i)\n",
        "print (cont_cols)"
      ],
      "execution_count": 5,
      "outputs": [
        {
          "output_type": "stream",
          "text": [
            "['age', 'salary', 'hours_per_week']\n"
          ],
          "name": "stdout"
        }
      ]
    },
    {
      "cell_type": "markdown",
      "metadata": {
        "id": "jrVRJ761SkPp"
      },
      "source": [
        "##Continuous Features:\n",
        "######1.age\n",
        "######2.salary\n",
        "######3.hours_per_week\n",
        "\n",
        "\n",
        "\n",
        "\n",
        "\n",
        "\n",
        "\n",
        "\n",
        "\n"
      ]
    },
    {
      "cell_type": "markdown",
      "metadata": {
        "id": "nGWu8lPKHX8w"
      },
      "source": [
        "##Categorical Features:\n",
        "######1.employment_type\n",
        "######2.education\n",
        "######3.marital-status\n",
        "######4.relationship\n",
        "######5.Gender\n"
      ]
    },
    {
      "cell_type": "markdown",
      "metadata": {
        "id": "aktc0HVDUdK-"
      },
      "source": [
        "#Problem Statement #2"
      ]
    },
    {
      "cell_type": "markdown",
      "metadata": {
        "id": "9-wKErJ4VZkB"
      },
      "source": [
        "###Univariate Analysis 1\n",
        "####Categorical feature: employment_type"
      ]
    },
    {
      "cell_type": "code",
      "metadata": {
        "colab": {
          "base_uri": "https://localhost:8080/",
          "height": 495
        },
        "id": "rD7aTat7X4pk",
        "outputId": "abfa102b-9a3f-4274-cec2-5415e0e6c506"
      },
      "source": [
        "plt.figure(figsize=(20,7))\n",
        "ax = sns.countplot(df['employment_type'])  \n",
        "plt.xlabel('EMPLOYMENT TYPE')  \n",
        "plt.ylabel('COUNT')\n",
        "plt.title('Univariate Analysis #1: employment_type')\n",
        "ax.set_xticklabels(ax.get_xticklabels(), rotation=40, ha=\"right\")\n",
        "plt.show()"
      ],
      "execution_count": 6,
      "outputs": [
        {
          "output_type": "stream",
          "text": [
            "/usr/local/lib/python3.7/dist-packages/seaborn/_decorators.py:43: FutureWarning: Pass the following variable as a keyword arg: x. From version 0.12, the only valid positional argument will be `data`, and passing other arguments without an explicit keyword will result in an error or misinterpretation.\n",
            "  FutureWarning\n"
          ],
          "name": "stderr"
        },
        {
          "output_type": "display_data",
          "data": {
            "image/png": "[encoded data removed]",
            "text/plain": [
              "<Figure size 1440x504 with 1 Axes>"
            ]
          },
          "metadata": {
            "tags": [],
            "needs_background": "light"
          }
        }
      ]
    },
    {
      "cell_type": "markdown",
      "metadata": {
        "id": "Hzxv08r1lVYh"
      },
      "source": [
        "###Inference:\n",
        "#####The most number of people work in the Private Sector (around 680),    and the least number of people work in the Federal Government Department(less then 20).\n",
        "\n",
        "---\n",
        "\n"
      ]
    },
    {
      "cell_type": "markdown",
      "metadata": {
        "id": "50f3BZ98Vu2B"
      },
      "source": [
        "###Univariate Analysis 2\n",
        "####Categorical feature: education"
      ]
    },
    {
      "cell_type": "code",
      "metadata": {
        "colab": {
          "base_uri": "https://localhost:8080/",
          "height": 487
        },
        "id": "9x3R2EBLX4v7",
        "outputId": "fcb06f51-83e1-45dc-abc7-bd3f2f07a02d"
      },
      "source": [
        "plt.figure(figsize=(20,7))\n",
        "ax = sns.countplot(df['education'], palette = \"Set3\")  \n",
        "plt.xlabel('EDUCATION')  \n",
        "plt.ylabel('COUNT')\n",
        "plt.title('Univariate Analysis #2: education')\n",
        "ax.set_xticklabels(ax.get_xticklabels(), rotation=40, ha=\"right\")\n",
        "plt.show()"
      ],
      "execution_count": 7,
      "outputs": [
        {
          "output_type": "stream",
          "text": [
            "/usr/local/lib/python3.7/dist-packages/seaborn/_decorators.py:43: FutureWarning: Pass the following variable as a keyword arg: x. From version 0.12, the only valid positional argument will be `data`, and passing other arguments without an explicit keyword will result in an error or misinterpretation.\n",
            "  FutureWarning\n"
          ],
          "name": "stderr"
        },
        {
          "output_type": "display_data",
          "data": {
            "image/png": "[encoded data removed]",
            "text/plain": [
              "<Figure size 1440x504 with 1 Axes>"
            ]
          },
          "metadata": {
            "tags": [],
            "needs_background": "light"
          }
        }
      ]
    },
    {
      "cell_type": "markdown",
      "metadata": {
        "id": "ZYAvGfgUmJi2"
      },
      "source": [
        "###Inference:\n",
        "#####The most number of employees are high school graduated (more than 300), and the least number of people have an education only upto preschool (less than 5).\n",
        "\n",
        "---\n",
        "\n"
      ]
    },
    {
      "cell_type": "markdown",
      "metadata": {
        "id": "xwkMvnB_VzdR"
      },
      "source": [
        "###Univariate Analysis\n",
        "####Categorical feature: marital-status"
      ]
    },
    {
      "cell_type": "code",
      "metadata": {
        "colab": {
          "base_uri": "https://localhost:8080/",
          "height": 514
        },
        "id": "KxH_30LdX44N",
        "outputId": "8e3b2a8f-416d-44b8-b581-7831892cb89b"
      },
      "source": [
        "plt.figure(figsize=(20,7))\n",
        "ax = sns.countplot(df['marital-status'], palette = \"Set2\")  \n",
        "plt.xlabel('MARITAL STATUS')  \n",
        "plt.ylabel('COUNT')\n",
        "plt.title('Univariate Analysis #3: marital-status')\n",
        "ax.set_xticklabels(ax.get_xticklabels(), rotation=40, ha=\"right\")\n",
        "plt.show()"
      ],
      "execution_count": 8,
      "outputs": [
        {
          "output_type": "stream",
          "text": [
            "/usr/local/lib/python3.7/dist-packages/seaborn/_decorators.py:43: FutureWarning: Pass the following variable as a keyword arg: x. From version 0.12, the only valid positional argument will be `data`, and passing other arguments without an explicit keyword will result in an error or misinterpretation.\n",
            "  FutureWarning\n"
          ],
          "name": "stderr"
        },
        {
          "output_type": "display_data",
          "data": {
            "image/png": "[encoded data removed]",
            "text/plain": [
              "<Figure size 1440x504 with 1 Axes>"
            ]
          },
          "metadata": {
            "tags": [],
            "needs_background": "light"
          }
        }
      ]
    },
    {
      "cell_type": "markdown",
      "metadata": {
        "id": "wedNfMnFmoNn"
      },
      "source": [
        "###Inference:\n",
        "#####The most number of people are married to a civillian spouse, while the least number of people are married to a person who is in the armed forces.\n",
        "\n",
        "---\n",
        "\n"
      ]
    },
    {
      "cell_type": "markdown",
      "metadata": {
        "id": "xkF1MCscV4Ml"
      },
      "source": [
        "###Univariate Analysis\n",
        "####Categorical feature: relationship"
      ]
    },
    {
      "cell_type": "code",
      "metadata": {
        "colab": {
          "base_uri": "https://localhost:8080/",
          "height": 487
        },
        "id": "MiPKRqQxX40m",
        "outputId": "173b6afd-e2c8-4101-a688-276c0383faff"
      },
      "source": [
        "plt.figure(figsize=(20,7))\n",
        "ax = sns.countplot(df['relationship'], palette = \"Set1\") \n",
        "ax.set_xticklabels(ax.get_xticklabels(), rotation=40, ha=\"right\") \n",
        "plt.xlabel('RELATIONSHIP')  \n",
        "plt.ylabel('COUNT')\n",
        "plt.title('Univariate Analysis #4: relationship')\n",
        "plt.show()"
      ],
      "execution_count": 9,
      "outputs": [
        {
          "output_type": "stream",
          "text": [
            "/usr/local/lib/python3.7/dist-packages/seaborn/_decorators.py:43: FutureWarning: Pass the following variable as a keyword arg: x. From version 0.12, the only valid positional argument will be `data`, and passing other arguments without an explicit keyword will result in an error or misinterpretation.\n",
            "  FutureWarning\n"
          ],
          "name": "stderr"
        },
        {
          "output_type": "display_data",
          "data": {
            "image/png": "[encoded data removed]",
            "text/plain": [
              "<Figure size 1440x504 with 1 Axes>"
            ]
          },
          "metadata": {
            "tags": [],
            "needs_background": "light"
          }
        }
      ]
    },
    {
      "cell_type": "markdown",
      "metadata": {
        "id": "7gn8jYLIuzjy"
      },
      "source": [
        "###Inference:\n",
        "#####The most number of people are related as a husband, while the least number of people are related as an other-relative.\n",
        "\n",
        "---\n",
        "\n"
      ]
    },
    {
      "cell_type": "markdown",
      "metadata": {
        "id": "KvcL1d5sV8e2"
      },
      "source": [
        "###Univariate Analysis\n",
        "####Categorical feature: Gender"
      ]
    },
    {
      "cell_type": "code",
      "metadata": {
        "colab": {
          "base_uri": "https://localhost:8080/",
          "height": 513
        },
        "id": "IQHyXyJhXGLD",
        "outputId": "e9188778-75e9-485d-d90b-0c9392bb41d5"
      },
      "source": [
        "plt.figure(figsize=(10,7))\n",
        "ax = sns.countplot(df['Gender'], color=\"salmon\")  \n",
        "plt.xlabel('GENDER')  \n",
        "plt.ylabel('COUNT')\n",
        "plt.title('Univariate Analysis #4: Gender')\n",
        "ax.set_xticklabels(ax.get_xticklabels(), rotation=0, ha=\"left\")\n",
        "plt.show()"
      ],
      "execution_count": 10,
      "outputs": [
        {
          "output_type": "stream",
          "text": [
            "/usr/local/lib/python3.7/dist-packages/seaborn/_decorators.py:43: FutureWarning: Pass the following variable as a keyword arg: x. From version 0.12, the only valid positional argument will be `data`, and passing other arguments without an explicit keyword will result in an error or misinterpretation.\n",
            "  FutureWarning\n"
          ],
          "name": "stderr"
        },
        {
          "output_type": "display_data",
          "data": {
            "image/png": "[encoded data removed]",
            "text/plain": [
              "<Figure size 720x504 with 1 Axes>"
            ]
          },
          "metadata": {
            "tags": [],
            "needs_background": "light"
          }
        }
      ]
    },
    {
      "cell_type": "markdown",
      "metadata": {
        "id": "UchJHoY2vKkH"
      },
      "source": [
        "###Inference:\n",
        "#####The number of male employees is almost double of that of the female employees, showing that the company is biased towards hiring male employees.\n",
        "---\n",
        "\n"
      ]
    },
    {
      "cell_type": "markdown",
      "metadata": {
        "id": "p5keCxJ2WAi-"
      },
      "source": [
        "###Univariate Analysis\n",
        "####Continuous feature: age"
      ]
    },
    {
      "cell_type": "code",
      "metadata": {
        "colab": {
          "base_uri": "https://localhost:8080/",
          "height": 452
        },
        "id": "_x_MnMQ_fQPu",
        "outputId": "d2725dff-0b77-433a-ad19-a2307dacfbbf"
      },
      "source": [
        "plt.figure(figsize=(20,7))\n",
        "plt.xlabel(\"AGE\")  \n",
        "plt.ylabel(\"DENSITY\")  \n",
        "plt.title(\"Continuous Univariate Analysis #1: age\")\n",
        "sns.distplot(df['age'], kde=False, color='green', bins=30)\n",
        "plt.show()"
      ],
      "execution_count": 11,
      "outputs": [
        {
          "output_type": "stream",
          "text": [
            "/usr/local/lib/python3.7/dist-packages/seaborn/distributions.py:2557: FutureWarning: `distplot` is a deprecated function and will be removed in a future version. Please adapt your code to use either `displot` (a figure-level function with similar flexibility) or `histplot` (an axes-level function for histograms).\n",
            "  warnings.warn(msg, FutureWarning)\n"
          ],
          "name": "stderr"
        },
        {
          "output_type": "display_data",
          "data": {
            "image/png": "[encoded data removed]",
            "text/plain": [
              "<Figure size 1440x504 with 1 Axes>"
            ]
          },
          "metadata": {
            "tags": [],
            "needs_background": "light"
          }
        }
      ]
    },
    {
      "cell_type": "markdown",
      "metadata": {
        "id": "fiwlQzm5vuNa"
      },
      "source": [
        "###Inference:\n",
        "#####The age of the maximum number of employees lies between 22 to 34. There is also a drastic decrease in the number of employees above the age of 46.\n",
        "\n",
        "---\n",
        "\n"
      ]
    },
    {
      "cell_type": "markdown",
      "metadata": {
        "id": "MQK1YTMfWIhj"
      },
      "source": [
        "###Univariate Analysis\n",
        "####Continuous feature: salary"
      ]
    },
    {
      "cell_type": "code",
      "metadata": {
        "colab": {
          "base_uri": "https://localhost:8080/",
          "height": 450
        },
        "id": "2Hf_Uy6jgQY2",
        "outputId": "6f69727c-d98f-4813-a088-737092059f3c"
      },
      "source": [
        "plt.figure(figsize=(20,7))\n",
        "plt.xlabel(\"SALARY\")  \n",
        "plt.ylabel(\"DENSITY\")  \n",
        "plt.title(\"Continuous Univariate Analysis #2: salary\")\n",
        "sns.distplot(df['salary'], kde=False, color='green', bins=30)\n",
        "plt.show()"
      ],
      "execution_count": 12,
      "outputs": [
        {
          "output_type": "stream",
          "text": [
            "/usr/local/lib/python3.7/dist-packages/seaborn/distributions.py:2557: FutureWarning: `distplot` is a deprecated function and will be removed in a future version. Please adapt your code to use either `displot` (a figure-level function with similar flexibility) or `histplot` (an axes-level function for histograms).\n",
            "  warnings.warn(msg, FutureWarning)\n"
          ],
          "name": "stderr"
        },
        {
          "output_type": "display_data",
          "data": {
            "image/png": "[encoded data removed]",
            "text/plain": [
              "<Figure size 1440x504 with 1 Axes>"
            ]
          },
          "metadata": {
            "tags": [],
            "needs_background": "light"
          }
        }
      ]
    },
    {
      "cell_type": "markdown",
      "metadata": {
        "id": "DlTehVB7wQhB"
      },
      "source": [
        "###Inference:\n",
        "#####The graph shows that most of the employees are paid around 2,00,000 per month, and those at entry-level positions are paid from 20,000 to 1,00,000. Those few at very senior level positions are paid very high salaries as can be seen towards the end of the graph.\n",
        "\n",
        "---\n",
        "\n"
      ]
    },
    {
      "cell_type": "markdown",
      "metadata": {
        "id": "Nw4WLcYtWLzR"
      },
      "source": [
        "###Univariate Analysis\n",
        "####Continuous feature: hours_per_week"
      ]
    },
    {
      "cell_type": "code",
      "metadata": {
        "colab": {
          "base_uri": "https://localhost:8080/",
          "height": 451
        },
        "id": "b9G7uNJRgRFp",
        "outputId": "ccfb7399-55c6-43f2-84d4-a75d6f0d7bc2"
      },
      "source": [
        "plt.figure(figsize=(20,7))\n",
        "plt.xlabel(\"HOURS PER WEEK\")  \n",
        "plt.ylabel(\"DENSITY\")  \n",
        "plt.title(\"Continuous Univariate Analysis #3: hours_per_week\")\n",
        "sns.distplot(df['hours_per_week'], kde=False, color='green', bins=30)\n",
        "plt.show()"
      ],
      "execution_count": 13,
      "outputs": [
        {
          "output_type": "stream",
          "text": [
            "/usr/local/lib/python3.7/dist-packages/seaborn/distributions.py:2557: FutureWarning: `distplot` is a deprecated function and will be removed in a future version. Please adapt your code to use either `displot` (a figure-level function with similar flexibility) or `histplot` (an axes-level function for histograms).\n",
            "  warnings.warn(msg, FutureWarning)\n"
          ],
          "name": "stderr"
        },
        {
          "output_type": "display_data",
          "data": {
            "image/png": "[encoded data removed]",
            "text/plain": [
              "<Figure size 1440x504 with 1 Axes>"
            ]
          },
          "metadata": {
            "tags": [],
            "needs_background": "light"
          }
        }
      ]
    },
    {
      "cell_type": "markdown",
      "metadata": {
        "id": "aoyTEE4FxO4c"
      },
      "source": [
        "###Inference:\n",
        "#####The graph shows that a general employee would have to work a little less than 40 hours a week.\n",
        "\n",
        "---\n",
        "\n"
      ]
    },
    {
      "cell_type": "markdown",
      "metadata": {
        "id": "QkGAydiDjEZW"
      },
      "source": [
        "#Problem Statement #3\n",
        "\n",
        "\n"
      ]
    },
    {
      "cell_type": "code",
      "metadata": {
        "colab": {
          "base_uri": "https://localhost:8080/",
          "height": 457
        },
        "id": "2PqyAtKkjFrv",
        "outputId": "acc87b50-fc41-4a4e-988b-ba6cb8a67050"
      },
      "source": [
        "plt.figure(figsize=(15,7))\n",
        "plt.xlabel(\"HOURS PER WEEK\")  \n",
        "plt.ylabel(\"SALARY\")  \n",
        "plt.title(\"Bivariate Analysis\")\n",
        "plt.scatter(df['hours_per_week'], df['salary'], c =\"blue\")\n",
        "plt.show()"
      ],
      "execution_count": 14,
      "outputs": [
        {
          "output_type": "display_data",
          "data": {
            "image/png": "[encoded data removed]",
            "text/plain": [
              "<Figure size 1080x504 with 1 Axes>"
            ]
          },
          "metadata": {
            "tags": [],
            "needs_background": "light"
          }
        }
      ]
    },
    {
      "cell_type": "markdown",
      "metadata": {
        "id": "CV7opXiByglv"
      },
      "source": [
        "###Inference:\n",
        "#####The graph shows the general trend that the people who work around 40 hours per week, i.e., 9-to-5 jobs, receive the highest salary.\n",
        "#####Towards the end of the graph we also see that some people who works around 100 hours per week receive very little salary. This leads us to believe that these must be the people doing physical labour.\n",
        "\n",
        "---\n",
        "\n"
      ]
    },
    {
      "cell_type": "code",
      "metadata": {
        "colab": {
          "base_uri": "https://localhost:8080/",
          "height": 282
        },
        "id": "kR_h63cOk0QR",
        "outputId": "6c5300fd-1d6e-47d1-b148-7acded287ad1"
      },
      "source": [
        "df.plot.hexbin(x='hours_per_week', y='salary', gridsize = 20, cmap ='Greens' )"
      ],
      "execution_count": 15,
      "outputs": [
        {
          "output_type": "execute_result",
          "data": {
            "text/plain": [
              "<matplotlib.axes._subplots.AxesSubplot at 0x7f6a0976a290>"
            ]
          },
          "metadata": {
            "tags": []
          },
          "execution_count": 15
        },
        {
          "output_type": "display_data",
          "data": {
            "image/png": "[encoded data removed]",
            "text/plain": [
              "<Figure size 432x288 with 2 Axes>"
            ]
          },
          "metadata": {
            "tags": [],
            "needs_background": "light"
          }
        }
      ]
    },
    {
      "cell_type": "markdown",
      "metadata": {
        "id": "I73haxEP0Hsq"
      },
      "source": [
        "###Inference:\n",
        "#####The hex plot expresses the data from the previous scatter plot much more clearly.\n",
        "\n",
        "---\n",
        "\n"
      ]
    },
    {
      "cell_type": "markdown",
      "metadata": {
        "id": "Eze0j1YxoBaa"
      },
      "source": [
        "#Problem Statement #4\n",
        "\n",
        "\n"
      ]
    },
    {
      "cell_type": "code",
      "metadata": {
        "colab": {
          "base_uri": "https://localhost:8080/",
          "height": 95
        },
        "id": "XDVIkcRroAej",
        "outputId": "6311bca7-8586-46eb-8ae3-2de03f7dea05"
      },
      "source": [
        "g = sns.FacetGrid(df, col=\"education\")\n",
        "g.map_dataframe(sns.histplot, x=\"salary\")"
      ],
      "execution_count": 16,
      "outputs": [
        {
          "output_type": "execute_result",
          "data": {
            "text/plain": [
              "<seaborn.axisgrid.FacetGrid at 0x7f6a096c1d90>"
            ]
          },
          "metadata": {
            "tags": []
          },
          "execution_count": 16
        },
        {
          "output_type": "display_data",
          "data": {
            "image/png": "[encoded data removed]",
            "text/plain": [
              "<Figure size 3456x216 with 16 Axes>"
            ]
          },
          "metadata": {
            "tags": [],
            "needs_background": "light"
          }
        }
      ]
    },
    {
      "cell_type": "markdown",
      "metadata": {
        "id": "wUXznldzLEFg"
      },
      "source": [
        "###Inference:\n",
        "#####1)For people with Bachelors' Degree, the most common salary range is between 50,000 to 2,50,000.\n",
        "#####2)For HS-grad people and those who have been to some college, most of the employees get somewhere around 2,00,000.\n",
        "#####3)The graphs also imply that that the no. of people with other qualifications are relatively less than the aforementioned three, and for all such qualifications people generally earn less than 3,75,000, except for those who have a Master's degree, where there salary goes up till 5,00,000.\n",
        "\n",
        "---\n",
        "\n"
      ]
    },
    {
      "cell_type": "markdown",
      "metadata": {
        "id": "HUbHMNUHuoo1"
      },
      "source": [
        "#Problem Statement #5\n",
        "\n",
        "\n"
      ]
    },
    {
      "cell_type": "code",
      "metadata": {
        "colab": {
          "base_uri": "https://localhost:8080/",
          "height": 1000
        },
        "id": "rkLnK7ZjuoVU",
        "outputId": "1365991b-3014-4595-c6a4-54023c662f9e"
      },
      "source": [
        "plt.figure(figsize=(10,10))\n",
        "g = sns.FacetGrid(df, col=\"Gender\",  row=\"relationship\", height=5)\n",
        "g.map_dataframe(sns.histplot, x=\"hours_per_week\")\n",
        "g.set_axis_labels(\"DENSITY\", \"HOURS PER WEEK\")\n",
        "plt.show()"
      ],
      "execution_count": 17,
      "outputs": [
        {
          "output_type": "display_data",
          "data": {
            "text/plain": [
              "<Figure size 720x720 with 0 Axes>"
            ]
          },
          "metadata": {
            "tags": []
          }
        },
        {
          "output_type": "display_data",
          "data": {
            "image/png": "[encoded data removed]",
            "text/plain": [
              "<Figure size 720x2160 with 12 Axes>"
            ]
          },
          "metadata": {
            "tags": [],
            "needs_background": "light"
          }
        }
      ]
    },
    {
      "cell_type": "markdown",
      "metadata": {
        "id": "prhS9y2xMwF1"
      },
      "source": [
        "###Inference:\n",
        "#####Observation 1)There are a lot more males than females, especially where relationship = husband/wife\n",
        "#####Observation 2)An exception to Observation 1 occurs in the case where relationship = unmarried for both genders. Here, the number of males is significantly less than that of females, and hours_per_week are also more for females.\n",
        "#####Observation 3)Now, talking about the hours per week worked by both genders, males have a higher number of working hours as compared to females in every relationship, excluding the exception mentioned in Observation 2.\n",
        "---\n",
        "\n"
      ]
    },
    {
      "cell_type": "markdown",
      "metadata": {
        "id": "7aFGFUxFEFhD"
      },
      "source": [
        "#Problem Statement #6\n",
        "\n",
        "\n"
      ]
    },
    {
      "cell_type": "code",
      "metadata": {
        "colab": {
          "base_uri": "https://localhost:8080/",
          "height": 197
        },
        "id": "9JwReS9CxstT",
        "outputId": "13579f70-8cda-4e3b-e2dc-6364b6970d69"
      },
      "source": [
        "data = df[(df[\"salary\"] > 150000) & (df[\"marital-status\"].str.contains(\"Married-civ-spouse\")) & (df[\"Gender\"].str.contains(\"Male\"))]\n",
        "data.head()"
      ],
      "execution_count": 18,
      "outputs": [
        {
          "output_type": "execute_result",
          "data": {
            "text/html": [
              "<div>\n",
              "<style scoped>\n",
              "    .dataframe tbody tr th:only-of-type {\n",
              "        vertical-align: middle;\n",
              "    }\n",
              "\n",
              "    .dataframe tbody tr th {\n",
              "        vertical-align: top;\n",
              "    }\n",
              "\n",
              "    .dataframe thead th {\n",
              "        text-align: right;\n",
              "    }\n",
              "</style>\n",
              "<table border=\"1\" class=\"dataframe\">\n",
              "  <thead>\n",
              "    <tr style=\"text-align: right;\">\n",
              "      <th></th>\n",
              "      <th>age</th>\n",
              "      <th>employment_type</th>\n",
              "      <th>salary</th>\n",
              "      <th>education</th>\n",
              "      <th>marital-status</th>\n",
              "      <th>relationship</th>\n",
              "      <th>Gender</th>\n",
              "      <th>hours_per_week</th>\n",
              "    </tr>\n",
              "  </thead>\n",
              "  <tbody>\n",
              "    <tr>\n",
              "      <th>3</th>\n",
              "      <td>53</td>\n",
              "      <td>Private</td>\n",
              "      <td>234721</td>\n",
              "      <td>11th</td>\n",
              "      <td>Married-civ-spouse</td>\n",
              "      <td>Husband</td>\n",
              "      <td>Male</td>\n",
              "      <td>40</td>\n",
              "    </tr>\n",
              "    <tr>\n",
              "      <th>7</th>\n",
              "      <td>52</td>\n",
              "      <td>Self-emp-not-inc</td>\n",
              "      <td>209642</td>\n",
              "      <td>HS-grad</td>\n",
              "      <td>Married-civ-spouse</td>\n",
              "      <td>Husband</td>\n",
              "      <td>Male</td>\n",
              "      <td>45</td>\n",
              "    </tr>\n",
              "    <tr>\n",
              "      <th>9</th>\n",
              "      <td>42</td>\n",
              "      <td>Private</td>\n",
              "      <td>159449</td>\n",
              "      <td>Bachelors</td>\n",
              "      <td>Married-civ-spouse</td>\n",
              "      <td>Husband</td>\n",
              "      <td>Male</td>\n",
              "      <td>40</td>\n",
              "    </tr>\n",
              "    <tr>\n",
              "      <th>10</th>\n",
              "      <td>37</td>\n",
              "      <td>Private</td>\n",
              "      <td>280464</td>\n",
              "      <td>Some-college</td>\n",
              "      <td>Married-civ-spouse</td>\n",
              "      <td>Husband</td>\n",
              "      <td>Male</td>\n",
              "      <td>80</td>\n",
              "    </tr>\n",
              "    <tr>\n",
              "      <th>15</th>\n",
              "      <td>34</td>\n",
              "      <td>Private</td>\n",
              "      <td>245487</td>\n",
              "      <td>7th-8th</td>\n",
              "      <td>Married-civ-spouse</td>\n",
              "      <td>Husband</td>\n",
              "      <td>Male</td>\n",
              "      <td>45</td>\n",
              "    </tr>\n",
              "  </tbody>\n",
              "</table>\n",
              "</div>"
            ],
            "text/plain": [
              "    age    employment_type  salary  ... relationship Gender hours_per_week\n",
              "3    53            Private  234721  ...      Husband   Male             40\n",
              "7    52   Self-emp-not-inc  209642  ...      Husband   Male             45\n",
              "9    42            Private  159449  ...      Husband   Male             40\n",
              "10   37            Private  280464  ...      Husband   Male             80\n",
              "15   34            Private  245487  ...      Husband   Male             45\n",
              "\n",
              "[5 rows x 8 columns]"
            ]
          },
          "metadata": {
            "tags": []
          },
          "execution_count": 18
        }
      ]
    },
    {
      "cell_type": "code",
      "metadata": {
        "colab": {
          "base_uri": "https://localhost:8080/"
        },
        "id": "qzJAKt6Sy3nq",
        "outputId": "7cfb2f60-49e2-48b8-f346-7d56bef016bf"
      },
      "source": [
        " len(data.index)"
      ],
      "execution_count": 19,
      "outputs": [
        {
          "output_type": "execute_result",
          "data": {
            "text/plain": [
              "226"
            ]
          },
          "metadata": {
            "tags": []
          },
          "execution_count": 19
        }
      ]
    },
    {
      "cell_type": "markdown",
      "metadata": {
        "id": "Gsr-XGGa3_bo"
      },
      "source": [
        "###Inference:\n",
        "#####The total number of people who are married to a civillian and earn more than 1,50,000 = 226 out of 978\n",
        "\n",
        "---\n",
        "\n"
      ]
    },
    {
      "cell_type": "markdown",
      "metadata": {
        "id": "LNiEoaC2HAKJ"
      },
      "source": [
        "#Problem Statement #7\n",
        "\n",
        "\n"
      ]
    },
    {
      "cell_type": "code",
      "metadata": {
        "colab": {
          "base_uri": "https://localhost:8080/",
          "height": 347
        },
        "id": "RJsXLW2OEL__",
        "outputId": "dd658090-85a6-41c0-93dd-62a0550f3c58"
      },
      "source": [
        "Divorced_data = df[df[\"marital-status\"].str.contains(\"Divorced\")]\n",
        "Divorced_data.head(10)"
      ],
      "execution_count": 20,
      "outputs": [
        {
          "output_type": "execute_result",
          "data": {
            "text/html": [
              "<div>\n",
              "<style scoped>\n",
              "    .dataframe tbody tr th:only-of-type {\n",
              "        vertical-align: middle;\n",
              "    }\n",
              "\n",
              "    .dataframe tbody tr th {\n",
              "        vertical-align: top;\n",
              "    }\n",
              "\n",
              "    .dataframe thead th {\n",
              "        text-align: right;\n",
              "    }\n",
              "</style>\n",
              "<table border=\"1\" class=\"dataframe\">\n",
              "  <thead>\n",
              "    <tr style=\"text-align: right;\">\n",
              "      <th></th>\n",
              "      <th>age</th>\n",
              "      <th>employment_type</th>\n",
              "      <th>salary</th>\n",
              "      <th>education</th>\n",
              "      <th>marital-status</th>\n",
              "      <th>relationship</th>\n",
              "      <th>Gender</th>\n",
              "      <th>hours_per_week</th>\n",
              "    </tr>\n",
              "  </thead>\n",
              "  <tbody>\n",
              "    <tr>\n",
              "      <th>2</th>\n",
              "      <td>38</td>\n",
              "      <td>Private</td>\n",
              "      <td>215646</td>\n",
              "      <td>HS-grad</td>\n",
              "      <td>Divorced</td>\n",
              "      <td>Not-in-family</td>\n",
              "      <td>Male</td>\n",
              "      <td>40</td>\n",
              "    </tr>\n",
              "    <tr>\n",
              "      <th>19</th>\n",
              "      <td>43</td>\n",
              "      <td>Self-emp-not-inc</td>\n",
              "      <td>292175</td>\n",
              "      <td>Masters</td>\n",
              "      <td>Divorced</td>\n",
              "      <td>Unmarried</td>\n",
              "      <td>Female</td>\n",
              "      <td>45</td>\n",
              "    </tr>\n",
              "    <tr>\n",
              "      <th>24</th>\n",
              "      <td>59</td>\n",
              "      <td>Private</td>\n",
              "      <td>109015</td>\n",
              "      <td>HS-grad</td>\n",
              "      <td>Divorced</td>\n",
              "      <td>Unmarried</td>\n",
              "      <td>Female</td>\n",
              "      <td>40</td>\n",
              "    </tr>\n",
              "    <tr>\n",
              "      <th>28</th>\n",
              "      <td>39</td>\n",
              "      <td>Private</td>\n",
              "      <td>367260</td>\n",
              "      <td>HS-grad</td>\n",
              "      <td>Divorced</td>\n",
              "      <td>Not-in-family</td>\n",
              "      <td>Male</td>\n",
              "      <td>80</td>\n",
              "    </tr>\n",
              "    <tr>\n",
              "      <th>32</th>\n",
              "      <td>45</td>\n",
              "      <td>Private</td>\n",
              "      <td>386940</td>\n",
              "      <td>Bachelors</td>\n",
              "      <td>Divorced</td>\n",
              "      <td>Own-child</td>\n",
              "      <td>Male</td>\n",
              "      <td>40</td>\n",
              "    </tr>\n",
              "    <tr>\n",
              "      <th>47</th>\n",
              "      <td>44</td>\n",
              "      <td>Private</td>\n",
              "      <td>128354</td>\n",
              "      <td>Masters</td>\n",
              "      <td>Divorced</td>\n",
              "      <td>Unmarried</td>\n",
              "      <td>Female</td>\n",
              "      <td>40</td>\n",
              "    </tr>\n",
              "    <tr>\n",
              "      <th>53</th>\n",
              "      <td>50</td>\n",
              "      <td>Federal-gov</td>\n",
              "      <td>251585</td>\n",
              "      <td>Bachelors</td>\n",
              "      <td>Divorced</td>\n",
              "      <td>Not-in-family</td>\n",
              "      <td>Male</td>\n",
              "      <td>55</td>\n",
              "    </tr>\n",
              "    <tr>\n",
              "      <th>54</th>\n",
              "      <td>47</td>\n",
              "      <td>Self-emp-inc</td>\n",
              "      <td>109832</td>\n",
              "      <td>HS-grad</td>\n",
              "      <td>Divorced</td>\n",
              "      <td>Not-in-family</td>\n",
              "      <td>Male</td>\n",
              "      <td>60</td>\n",
              "    </tr>\n",
              "    <tr>\n",
              "      <th>64</th>\n",
              "      <td>29</td>\n",
              "      <td>Private</td>\n",
              "      <td>105598</td>\n",
              "      <td>Some-college</td>\n",
              "      <td>Divorced</td>\n",
              "      <td>Not-in-family</td>\n",
              "      <td>Male</td>\n",
              "      <td>58</td>\n",
              "    </tr>\n",
              "    <tr>\n",
              "      <th>66</th>\n",
              "      <td>28</td>\n",
              "      <td>Private</td>\n",
              "      <td>183175</td>\n",
              "      <td>Some-college</td>\n",
              "      <td>Divorced</td>\n",
              "      <td>Not-in-family</td>\n",
              "      <td>Female</td>\n",
              "      <td>40</td>\n",
              "    </tr>\n",
              "  </tbody>\n",
              "</table>\n",
              "</div>"
            ],
            "text/plain": [
              "    age    employment_type  salary  ...    relationship   Gender hours_per_week\n",
              "2    38            Private  215646  ...   Not-in-family     Male             40\n",
              "19   43   Self-emp-not-inc  292175  ...       Unmarried   Female             45\n",
              "24   59            Private  109015  ...       Unmarried   Female             40\n",
              "28   39            Private  367260  ...   Not-in-family     Male             80\n",
              "32   45            Private  386940  ...       Own-child     Male             40\n",
              "47   44            Private  128354  ...       Unmarried   Female             40\n",
              "53   50        Federal-gov  251585  ...   Not-in-family     Male             55\n",
              "54   47       Self-emp-inc  109832  ...   Not-in-family     Male             60\n",
              "64   29            Private  105598  ...   Not-in-family     Male             58\n",
              "66   28            Private  183175  ...   Not-in-family   Female             40\n",
              "\n",
              "[10 rows x 8 columns]"
            ]
          },
          "metadata": {
            "tags": []
          },
          "execution_count": 20
        }
      ]
    },
    {
      "cell_type": "code",
      "metadata": {
        "colab": {
          "base_uri": "https://localhost:8080/"
        },
        "id": "zsBSJZtfEMES",
        "outputId": "665f33ce-2c31-4760-b458-3cdfca104f45"
      },
      "source": [
        "Divorced_data['age'].mean()"
      ],
      "execution_count": 21,
      "outputs": [
        {
          "output_type": "execute_result",
          "data": {
            "text/plain": [
              "42.03076923076923"
            ]
          },
          "metadata": {
            "tags": []
          },
          "execution_count": 21
        }
      ]
    },
    {
      "cell_type": "code",
      "metadata": {
        "colab": {
          "base_uri": "https://localhost:8080/",
          "height": 197
        },
        "id": "y9pNWqGVGuDN",
        "outputId": "41fbd85d-05cc-4a86-e4f9-5505c36b88cf"
      },
      "source": [
        "NotinFamily_data = df[df[\"relationship\"].str.contains(\"Not-in-family\")]\n",
        "NotinFamily_data.head()"
      ],
      "execution_count": 22,
      "outputs": [
        {
          "output_type": "execute_result",
          "data": {
            "text/html": [
              "<div>\n",
              "<style scoped>\n",
              "    .dataframe tbody tr th:only-of-type {\n",
              "        vertical-align: middle;\n",
              "    }\n",
              "\n",
              "    .dataframe tbody tr th {\n",
              "        vertical-align: top;\n",
              "    }\n",
              "\n",
              "    .dataframe thead th {\n",
              "        text-align: right;\n",
              "    }\n",
              "</style>\n",
              "<table border=\"1\" class=\"dataframe\">\n",
              "  <thead>\n",
              "    <tr style=\"text-align: right;\">\n",
              "      <th></th>\n",
              "      <th>age</th>\n",
              "      <th>employment_type</th>\n",
              "      <th>salary</th>\n",
              "      <th>education</th>\n",
              "      <th>marital-status</th>\n",
              "      <th>relationship</th>\n",
              "      <th>Gender</th>\n",
              "      <th>hours_per_week</th>\n",
              "    </tr>\n",
              "  </thead>\n",
              "  <tbody>\n",
              "    <tr>\n",
              "      <th>0</th>\n",
              "      <td>39</td>\n",
              "      <td>State-gov</td>\n",
              "      <td>77516</td>\n",
              "      <td>Bachelors</td>\n",
              "      <td>Never-married</td>\n",
              "      <td>Not-in-family</td>\n",
              "      <td>Male</td>\n",
              "      <td>40</td>\n",
              "    </tr>\n",
              "    <tr>\n",
              "      <th>2</th>\n",
              "      <td>38</td>\n",
              "      <td>Private</td>\n",
              "      <td>215646</td>\n",
              "      <td>HS-grad</td>\n",
              "      <td>Divorced</td>\n",
              "      <td>Not-in-family</td>\n",
              "      <td>Male</td>\n",
              "      <td>40</td>\n",
              "    </tr>\n",
              "    <tr>\n",
              "      <th>6</th>\n",
              "      <td>49</td>\n",
              "      <td>Private</td>\n",
              "      <td>160187</td>\n",
              "      <td>9th</td>\n",
              "      <td>Married-spouse-absent</td>\n",
              "      <td>Not-in-family</td>\n",
              "      <td>Female</td>\n",
              "      <td>16</td>\n",
              "    </tr>\n",
              "    <tr>\n",
              "      <th>8</th>\n",
              "      <td>31</td>\n",
              "      <td>Private</td>\n",
              "      <td>45781</td>\n",
              "      <td>Masters</td>\n",
              "      <td>Never-married</td>\n",
              "      <td>Not-in-family</td>\n",
              "      <td>Female</td>\n",
              "      <td>50</td>\n",
              "    </tr>\n",
              "    <tr>\n",
              "      <th>13</th>\n",
              "      <td>32</td>\n",
              "      <td>Private</td>\n",
              "      <td>205019</td>\n",
              "      <td>Assoc-acdm</td>\n",
              "      <td>Never-married</td>\n",
              "      <td>Not-in-family</td>\n",
              "      <td>Male</td>\n",
              "      <td>50</td>\n",
              "    </tr>\n",
              "  </tbody>\n",
              "</table>\n",
              "</div>"
            ],
            "text/plain": [
              "    age employment_type  salary  ...    relationship   Gender hours_per_week\n",
              "0    39       State-gov   77516  ...   Not-in-family     Male             40\n",
              "2    38         Private  215646  ...   Not-in-family     Male             40\n",
              "6    49         Private  160187  ...   Not-in-family   Female             16\n",
              "8    31         Private   45781  ...   Not-in-family   Female             50\n",
              "13   32         Private  205019  ...   Not-in-family     Male             50\n",
              "\n",
              "[5 rows x 8 columns]"
            ]
          },
          "metadata": {
            "tags": []
          },
          "execution_count": 22
        }
      ]
    },
    {
      "cell_type": "code",
      "metadata": {
        "colab": {
          "base_uri": "https://localhost:8080/"
        },
        "id": "GV59lEr3G3GV",
        "outputId": "a37dcb48-b294-4478-ca05-516f0b41bdc2"
      },
      "source": [
        "NotinFamily_data['age'].mean()"
      ],
      "execution_count": 23,
      "outputs": [
        {
          "output_type": "execute_result",
          "data": {
            "text/plain": [
              "37.48518518518519"
            ]
          },
          "metadata": {
            "tags": []
          },
          "execution_count": 23
        }
      ]
    },
    {
      "cell_type": "markdown",
      "metadata": {
        "id": "7ZOB42TM5bte"
      },
      "source": [
        "###Inference:\n",
        "#####Divorced Individuals are of higher age as compared to Individuals that are Not-in-family. \n",
        "######Divorced Individuals Mean Age = 42.03076923076923\n",
        "######Not-in-Family Individuals Mean Age = 37.48518518518519"
      ]
    }
  ]
}